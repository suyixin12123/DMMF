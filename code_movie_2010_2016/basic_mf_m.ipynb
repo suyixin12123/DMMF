{
 "cells": [
  {
   "cell_type": "code",
   "execution_count": 1,
   "metadata": {
    "collapsed": true
   },
   "outputs": [],
   "source": [
    "import tensorflow as tf\n",
    "import pandas as pd\n",
    "import pickle\n",
    "from sklearn.utils import shuffle\n",
    "from sklearn.model_selection import train_test_split\n",
    "import numpy as np"
   ]
  },
  {
   "cell_type": "code",
   "execution_count": 2,
   "metadata": {
    "collapsed": true
   },
   "outputs": [],
   "source": [
    "\"\"\"\n",
    "Global values\n",
    "\"\"\"\n",
    "FEATURE_LEN = 5\n",
    "folder = 'year2010_movie'\n"
   ]
  },
  {
   "cell_type": "code",
   "execution_count": 3,
   "metadata": {},
   "outputs": [
    {
     "name": "stdout",
     "output_type": "stream",
     "text": [
      "training number:  201623\n",
      "validaton number:  25203\n",
      "test number:  25203\n"
     ]
    }
   ],
   "source": [
    "\n",
    "user_rating = pickle.load(open('../data/'+folder+'/user_rating.pkl', 'rb'))\n",
    "\n",
    "user_rating_valid = pickle.load(open('../data/'+folder+'/user_rating_validation.pkl', 'rb'))\n",
    "\n",
    "user_rating_test = pickle.load(open('../data/'+folder+'/user_rating_test.pkl', 'rb'))\n",
    "\n",
    "df_train = []\n",
    "max_user = 0\n",
    "max_movie = 0\n",
    "for user in user_rating:\n",
    "    user_i = int(user)\n",
    "    for tup in user_rating[user]:\n",
    "        rating_i = float(tup[1])\n",
    "        movie_i = int(tup[0])\n",
    "        #user_list.append(user_i)\n",
    "        #movie_list.append(movie_i)\n",
    "        #rating_list.append(float(rating_i))\n",
    "        df_train.append([user_i, movie_i, float(rating_i)])\n",
    "        if movie_i > max_movie:\n",
    "            max_movie = movie_i\n",
    "    \n",
    "    if user_i > max_user:\n",
    "        max_user = user_i\n",
    "        \n",
    "df_test = []\n",
    "for user in user_rating_test:\n",
    "    user_i = int(user)\n",
    "    for tup in user_rating_test[user]:\n",
    "        rating_i = float(tup[1])\n",
    "        movie_i = int(tup[0])\n",
    "        #user_list.append(user_i)\n",
    "        #movie_list.append(movie_i)\n",
    "        #rating_list.append(float(rating_i))\n",
    "        df_test.append([user_i, movie_i, float(rating_i)])\n",
    "        if movie_i > max_movie:\n",
    "            max_movie = movie_i\n",
    "    \n",
    "    if user_i > max_user:\n",
    "        max_user = user_i\n",
    "        \n",
    "\n",
    "df_valid = []\n",
    "for user in user_rating_valid:\n",
    "    user_i = int(user)\n",
    "    for tup in user_rating_valid[user]:\n",
    "        rating_i = float(tup[1])\n",
    "        movie_i = int(tup[0])\n",
    "        #user_list.append(user_i)\n",
    "        #movie_list.append(movie_i)\n",
    "        #rating_list.append(float(rating_i))\n",
    "        df_valid.append([user_i, movie_i, float(rating_i)])\n",
    "        if movie_i > max_movie:\n",
    "            max_movie = movie_i\n",
    "    \n",
    "    if user_i > max_user:\n",
    "        max_user = user_i\n",
    "\n",
    "#user_s, movie_s, rating_s = shuffle(user_list, movie_list, rating_list)\n",
    "\n",
    "#df_train, df_test = train_test_split(df, test_size = 0.2)\n",
    "\n",
    "\"\"\"\n",
    "\"\"\"\n",
    "user_s = [t[0] for t in df_train]\n",
    "movie_s = [t[1] for t in df_train]\n",
    "rating_s = [t[2] for t in df_train]\n",
    "\n",
    "user_s_test = [t[0] for t in df_test]\n",
    "movie_s_test = [t[1] for t in df_test]\n",
    "rating_s_test = [t[2] for t in df_test]\n",
    "\n",
    "user_s_valid = [t[0] for t in df_valid]\n",
    "movie_s_valid = [t[1] for t in df_valid]\n",
    "rating_s_valid = [t[2] for t in df_valid]\n",
    "\n",
    "print(\"training number: \", len(user_s))\n",
    "print(\"validaton number: \", len(user_s_valid))\n",
    "print(\"test number: \", len(user_s_test))"
   ]
  },
  {
   "cell_type": "code",
   "execution_count": 4,
   "metadata": {
    "collapsed": true
   },
   "outputs": [],
   "source": [
    "user_indecies_train = user_s\n",
    "item_indecies_train = movie_s\n",
    "rates_train = rating_s\n",
    "\n",
    "user_indecies_test = user_s_test\n",
    "item_indecies_test = movie_s_test\n",
    "rates_test = rating_s_test\n",
    "\n",
    "user_indecies_valid = user_s_valid\n",
    "item_indecies_valid = movie_s_valid\n",
    "rates_valid = rating_s_valid\n"
   ]
  },
  {
   "cell_type": "code",
   "execution_count": 5,
   "metadata": {},
   "outputs": [
    {
     "data": {
      "text/plain": [
       "3906"
      ]
     },
     "execution_count": 5,
     "metadata": {},
     "output_type": "execute_result"
    }
   ],
   "source": [
    "max_movie"
   ]
  },
  {
   "cell_type": "code",
   "execution_count": 6,
   "metadata": {},
   "outputs": [
    {
     "data": {
      "text/plain": [
       "201623"
      ]
     },
     "execution_count": 6,
     "metadata": {},
     "output_type": "execute_result"
    }
   ],
   "source": [
    "totle_len = len(user_s)\n",
    "totle_len"
   ]
  },
  {
   "cell_type": "code",
   "execution_count": 7,
   "metadata": {},
   "outputs": [
    {
     "name": "stdout",
     "output_type": "stream",
     "text": [
      "max user: 3838\n",
      "max movie: 3906\n",
      "[2.0, 4.0, 4.0, 3.0, 4.0, 4.0, 2.0, 4.0, 3.5, 4.0, 4.5, 4.0, 4.0, 3.0, 2.0, 4.0, 4.0, 4.5, 4.5]\n",
      "3839 3907\n"
     ]
    }
   ],
   "source": [
    "def get_bias(user, movie, rating):\n",
    "    print('max user:', max_user)\n",
    "    print('max movie:', max_movie)\n",
    "    average = np.mean(rating)\n",
    "    user_dict = {}\n",
    "    movie_dict = {}\n",
    "    for i in range(len(user)):\n",
    "        user_dict[user[i]] = [rating[i]] if user[i] not in user_dict else user_dict[user[i]] + [rating[i]]\n",
    "        movie_dict[movie[i]] = [rating[i]] if movie[i] not in movie_dict else movie_dict[movie[i]] + [rating[i]]\n",
    "    \n",
    "    user_bias = [0 for i in range(max_user + 1)]\n",
    "    movie_bias = [0 for i in range(max_movie + 1)]\n",
    "    print(user_dict[2253])\n",
    "    print(len(user_bias), len(movie_bias))\n",
    "    for key in user_dict:\n",
    "        user_bias[int(key)] = np.mean(user_dict[key]) - average\n",
    "    for key in movie_dict:\n",
    "        movie_bias[int(key)] = np.mean(movie_dict[key]) - average\n",
    "    \n",
    "    return user_bias, movie_bias, average\n",
    "\n",
    "user_bias, movie_bias, average_score = get_bias(user_s, movie_s, rating_s)\n",
    "\n",
    "\n",
    "    "
   ]
  },
  {
   "cell_type": "code",
   "execution_count": 8,
   "metadata": {
    "collapsed": true
   },
   "outputs": [],
   "source": [
    "user_bias_r = np.reshape(user_bias,[-1,1])\n",
    "movie_bias_r = np.reshape(movie_bias,[1,-1])"
   ]
  },
  {
   "cell_type": "code",
   "execution_count": 9,
   "metadata": {
    "collapsed": true
   },
   "outputs": [],
   "source": [
    "U = tf.Variable(initial_value=tf.truncated_normal([max_user+1, FEATURE_LEN], stddev=0.2, mean=0), name='users')\n",
    "P = tf.Variable(initial_value=tf.truncated_normal([FEATURE_LEN, max_movie+1], stddev=0.2, mean=0), name='movies')"
   ]
  },
  {
   "cell_type": "code",
   "execution_count": 10,
   "metadata": {
    "collapsed": true
   },
   "outputs": [],
   "source": [
    "\n",
    "U_plus_bias = tf.concat([U, tf.constant(user_bias_r, dtype=tf.float32, name=\"user_bias\"), tf.ones((max_user+1,1), dtype=tf.float32, name=\"user_bias_ones\")], 1)\n",
    "P_plus_bias = tf.concat([P, tf.ones((1, max_movie+1), name=\"movie_bias_ones\", dtype=tf.float32), tf.constant(movie_bias_r, dtype=tf.float32, name=\"movie_bias\")], 0)\n"
   ]
  },
  {
   "cell_type": "code",
   "execution_count": 11,
   "metadata": {
    "collapsed": true
   },
   "outputs": [],
   "source": [
    "#result = tf.matmul(U_plus_bias, P_plus_bias)\n",
    "result = tf.matmul(U, P)"
   ]
  },
  {
   "cell_type": "code",
   "execution_count": 12,
   "metadata": {
    "collapsed": true
   },
   "outputs": [],
   "source": [
    "result_flatten = tf.reshape(result, [-1])\n",
    "R = tf.gather(result_flatten, user_s * tf.shape(result)[1] + movie_s, name='extracting_user_rate')"
   ]
  },
  {
   "cell_type": "code",
   "execution_count": 13,
   "metadata": {
    "collapsed": true
   },
   "outputs": [],
   "source": [
    "diff_op = tf.subtract(R, rating_s, name='trainig_diff')\n",
    "diff_op_squared = tf.nn.l2_loss(diff_op, name=\"squared_difference\")\n",
    "base_cost = tf.reduce_sum(diff_op_squared, name=\"sum_squared_error\")"
   ]
  },
  {
   "cell_type": "code",
   "execution_count": 14,
   "metadata": {
    "collapsed": true
   },
   "outputs": [],
   "source": [
    "lda = tf.constant(0.001, name='lambda')\n",
    "norm_sums = tf.add(tf.reduce_sum(tf.nn.l2_loss(U, name='user_abs'), name='user_norm'), \n",
    "   tf.reduce_sum(tf.nn.l2_loss(P, name='item_abs'), name='item_norm'))\n",
    "regularizer = tf.multiply(norm_sums, lda, 'regularizer')"
   ]
  },
  {
   "cell_type": "code",
   "execution_count": 15,
   "metadata": {
    "collapsed": true
   },
   "outputs": [],
   "source": [
    "cost = tf.add(base_cost, regularizer)\n",
    "#cost = base_cost"
   ]
  },
  {
   "cell_type": "code",
   "execution_count": 16,
   "metadata": {
    "collapsed": true
   },
   "outputs": [],
   "source": [
    "lr = tf.constant(.0001, name='learning_rate')\n",
    "global_step = tf.Variable(0, trainable=False)\n",
    "learning_rate = tf.train.exponential_decay(lr, global_step, 10000, 0.98, staircase=True)\n",
    "#learning_rate = 0.01\n",
    "optimizer = tf.train.GradientDescentOptimizer(learning_rate)\n",
    "training_step = optimizer.minimize(cost, global_step=global_step)"
   ]
  },
  {
   "cell_type": "code",
   "execution_count": 17,
   "metadata": {
    "collapsed": true
   },
   "outputs": [],
   "source": [
    "\n",
    "\n",
    "# accuracy\n",
    "R_test = tf.gather(result_flatten, user_indecies_train * tf.shape(result)[1] + item_indecies_train, name='extracting_user_rate_test')\n",
    "#R_test = tf.cast(R_test, tf.float64)\n",
    "rmse = tf.sqrt(tf.reduce_mean(tf.square(tf.subtract(rates_train, R_test))))\n",
    "#print(sess.run(rmse))\n"
   ]
  },
  {
   "cell_type": "code",
   "execution_count": 18,
   "metadata": {
    "collapsed": true
   },
   "outputs": [],
   "source": [
    "for i in user_indecies_train:\n",
    "    if i < 0:\n",
    "        print(i)\n",
    "        break"
   ]
  },
  {
   "cell_type": "code",
   "execution_count": 19,
   "metadata": {
    "collapsed": true
   },
   "outputs": [],
   "source": [
    "\n",
    "\n",
    "# accuracy\n",
    "test_R_test = tf.gather(result_flatten, user_indecies_test * tf.shape(result)[1] + item_indecies_test, name='extracting_user_rate_test')\n",
    "#test_R_test = tf.cast(test_R_test, tf.float64)\n",
    "test_rmse = tf.sqrt(tf.reduce_mean(tf.square(tf.subtract(rates_test, test_R_test))))\n",
    "#print(sess.run(rmse))\n",
    "\n"
   ]
  },
  {
   "cell_type": "code",
   "execution_count": 20,
   "metadata": {
    "collapsed": true
   },
   "outputs": [],
   "source": [
    "# accuracy\n",
    "valid_R_test = tf.gather(result_flatten, user_indecies_valid * tf.shape(result)[1] + item_indecies_valid, name='extracting_user_rate_valid')\n",
    "#test_R_test = tf.cast(test_R_test, tf.float64)\n",
    "valid_rmse = tf.sqrt(tf.reduce_mean(tf.square(tf.subtract(rates_valid, valid_R_test))))\n",
    "#print(sess.run(rmse))"
   ]
  },
  {
   "cell_type": "code",
   "execution_count": 21,
   "metadata": {
    "scrolled": true
   },
   "outputs": [
    {
     "name": "stdout",
     "output_type": "stream",
     "text": [
      "0 1.29672e+06 3.58647 3.59135 3.58144 0\n",
      "20 1.29423e+06 3.58303 3.59015 3.58017 0\n",
      "40 1.27394e+06 3.55483 3.56529 3.55496 0\n",
      "60 1.04233e+06 3.21548 3.24127 3.22794 0\n",
      "80 510904.0 2.2512 2.29645 2.28605 0\n",
      "100 303418.0 1.73485 1.7819 1.77576 0\n",
      "120 219909.0 1.47693 1.52651 1.51843 0\n",
      "140 177776.0 1.32792 1.37943 1.36924 0\n",
      "160 152880.0 1.23143 1.28441 1.27288 0\n",
      "180 136431.0 1.1633 1.21748 1.20519 0\n",
      "200 124683.0 1.11208 1.16729 1.15466 0\n",
      "220 115819.0 1.07182 1.12794 1.11524 0\n",
      "240 108857.0 1.0391 1.09606 1.08346 0\n",
      "260 103218.0 1.01183 1.0696 1.05721 0\n",
      "280 98541.5 0.988641 1.0472 1.03508 0\n",
      "300 94586.7 0.968597 1.02796 1.01614 0\n",
      "320 91188.9 0.95104 1.01121 0.999707 0\n",
      "340 88230.5 0.935483 0.996492 0.985302 0\n",
      "360 85625.4 0.921567 0.983434 0.972555 0\n",
      "380 83309.0 0.909014 0.97176 0.961183 0\n",
      "400 81231.8 0.89761 0.961253 0.950967 0\n",
      "420 79355.4 0.88718 0.951741 0.941734 0\n",
      "440 77649.3 0.877589 0.943085 0.933346 0\n",
      "460 76088.8 0.868725 0.935172 0.925687 0\n",
      "480 74654.2 0.860495 0.927907 0.918665 0\n",
      "500 73329.2 0.852823 0.921213 0.912202 0\n",
      "520 72100.2 0.845645 0.915025 0.906233 0\n",
      "540 70955.8 0.838907 0.909286 0.900703 0\n",
      "560 69886.7 0.832562 0.90395 0.895565 0\n",
      "580 68884.6 0.826571 0.898975 0.890779 0\n",
      "600 67942.7 0.820899 0.894327 0.886309 0\n",
      "620 67055.1 0.815517 0.889975 0.882127 0\n",
      "640 66216.7 0.810402 0.885891 0.878206 0\n",
      "660 65422.9 0.805529 0.882053 0.874522 0\n",
      "680 64670.1 0.80088 0.878439 0.871056 0\n",
      "700 63954.7 0.796438 0.875031 0.86779 0\n",
      "720 63273.6 0.792183 0.871813 0.864706 0\n",
      "740 62624.4 0.788107 0.868769 0.861793 0\n",
      "760 62004.4 0.784196 0.865887 0.859035 0\n",
      "780 61411.8 0.780439 0.863153 0.856423 0\n",
      "800 60844.4 0.776824 0.860559 0.853945 0\n",
      "820 60300.7 0.773345 0.858092 0.851592 0\n",
      "840 59779.0 0.76999 0.855746 0.849355 0\n",
      "860 59277.8 0.766756 0.85351 0.847227 0\n",
      "880 58796.0 0.763633 0.851379 0.8452 0\n",
      "900 58332.3 0.760614 0.849346 0.843268 0\n",
      "920 57885.6 0.757697 0.847403 0.841425 0\n",
      "940 57455.0 0.754871 0.845546 0.839664 0\n",
      "960 57039.6 0.752138 0.843768 0.837982 0\n",
      "980 56638.5 0.749487 0.842066 0.836373 0\n",
      "1000 56251.0 0.746917 0.840435 0.834834 0\n",
      "1020 55876.3 0.744426 0.838871 0.83336 0\n",
      "1040 55513.8 0.742006 0.837369 0.831947 0\n",
      "1060 55163.0 0.739657 0.835928 0.830592 0\n",
      "1080 54823.2 0.737375 0.834543 0.829294 0\n",
      "1100 54493.9 0.735157 0.833211 0.828047 0\n",
      "1120 54174.7 0.732999 0.831929 0.826849 0\n",
      "1140 53865.1 0.730902 0.830696 0.825699 0\n",
      "1160 53564.8 0.72886 0.829508 0.824593 0\n",
      "1180 53273.2 0.726873 0.828363 0.823531 0\n",
      "1200 52990.1 0.724938 0.82726 0.822508 0\n",
      "1220 52715.1 0.723056 0.826196 0.821524 0\n",
      "1240 52447.9 0.721218 0.825169 0.820578 0\n",
      "1260 52188.2 0.71943 0.824179 0.819666 0\n",
      "1280 51935.7 0.717688 0.823223 0.818789 1\n",
      "1300 51690.2 0.715988 0.8223 0.817943 0\n",
      "1320 51451.3 0.714331 0.821408 0.817128 1\n",
      "1340 51218.8 0.712716 0.820546 0.816343 0\n",
      "1360 50992.6 0.71114 0.819713 0.815586 1\n",
      "1380 50772.4 0.709601 0.818907 0.814856 0\n",
      "1400 50557.9 0.7081 0.818128 0.814152 1\n",
      "1420 50349.1 0.706636 0.817374 0.813473 0\n",
      "1440 50145.6 0.705206 0.816644 0.812817 1\n",
      "1460 49947.3 0.703811 0.815939 0.812184 0\n",
      "1480 49754.1 0.702446 0.815255 0.811574 1\n",
      "1500 49565.7 0.701115 0.814593 0.810985 0\n",
      "1520 49382.0 0.699814 0.813952 0.810416 1\n",
      "1540 49202.9 0.698543 0.813331 0.809866 0\n",
      "1560 49028.2 0.697302 0.812729 0.809335 1\n",
      "1580 48857.7 0.696088 0.812145 0.808821 0\n",
      "1600 48691.4 0.694902 0.81158 0.808325 1\n",
      "1620 48529.0 0.693741 0.811032 0.807846 0\n",
      "1640 48370.5 0.692607 0.810499 0.807383 1\n",
      "1660 48215.8 0.691498 0.809984 0.806935 0\n",
      "1680 48064.6 0.690412 0.809483 0.806502 1\n",
      "1700 47916.9 0.689351 0.808997 0.806083 0\n",
      "1720 47772.7 0.688312 0.808526 0.805677 1\n",
      "1740 47631.8 0.687296 0.808068 0.805285 2\n",
      "1760 47494.0 0.686301 0.807623 0.804906 0\n",
      "1780 47359.4 0.685327 0.807192 0.804539 1\n",
      "1800 47227.7 0.684373 0.806773 0.804183 2\n",
      "1820 47099.0 0.683439 0.806365 0.803839 0\n",
      "1840 46973.1 0.682526 0.80597 0.803506 1\n",
      "1860 46849.9 0.681628 0.805586 0.803183 2\n",
      "1880 46729.4 0.680751 0.805212 0.802871 0\n",
      "1900 46611.5 0.679891 0.804848 0.802568 1\n",
      "1920 46496.1 0.679047 0.804495 0.802275 2\n",
      "1940 46383.0 0.678223 0.804151 0.80199 0\n",
      "1960 46272.5 0.677414 0.803818 0.801716 1\n",
      "1980 46164.1 0.67662 0.803492 0.801449 2\n",
      "2000 46058.1 0.675841 0.803176 0.801191 0\n",
      "2020 45954.1 0.675078 0.802869 0.80094 1\n",
      "2040 45852.3 0.674329 0.80257 0.800697 2\n",
      "2060 45752.6 0.673595 0.802279 0.800462 3\n",
      "2080 45654.8 0.672875 0.801995 0.800234 0\n",
      "2100 45559.0 0.672167 0.801719 0.800013 1\n",
      "2120 45465.0 0.671474 0.801451 0.799798 2\n",
      "2140 45373.0 0.670794 0.80119 0.79959 3\n",
      "2160 45282.7 0.670125 0.800936 0.799388 0\n",
      "2180 45194.1 0.66947 0.800687 0.799193 1\n",
      "2200 45107.2 0.668825 0.800446 0.799003 2\n",
      "2220 45022.0 0.668192 0.800211 0.79882 3\n",
      "2240 44938.4 0.667571 0.799981 0.798642 4\n",
      "2260 44856.3 0.666962 0.799759 0.798469 0\n",
      "2280 44775.8 0.666363 0.799542 0.798302 1\n",
      "2300 44696.7 0.665774 0.799329 0.798139 2\n",
      "2320 44619.1 0.665194 0.799124 0.797982 3\n",
      "2340 44542.9 0.664626 0.798922 0.79783 4\n",
      "2360 44468.1 0.664067 0.798727 0.797681 0\n",
      "2380 44394.6 0.663518 0.798536 0.797538 1\n",
      "2400 44322.4 0.662977 0.79835 0.797399 2\n",
      "2420 44251.5 0.662448 0.798169 0.797265 3\n",
      "2440 44181.8 0.661925 0.797992 0.797134 4\n",
      "2460 44113.3 0.661412 0.79782 0.797008 5\n",
      "2480 44046.1 0.660908 0.797652 0.796885 0\n",
      "2500 43980.0 0.66041 0.797489 0.796766 1\n",
      "2520 43914.9 0.659922 0.797329 0.796651 2\n",
      "2540 43851.0 0.659441 0.797174 0.796541 3\n",
      "2560 43788.2 0.658968 0.797022 0.796433 4\n",
      "2580 43726.4 0.658504 0.796875 0.796329 5\n",
      "2600 43665.7 0.658044 0.796731 0.796228 6\n",
      "2620 43605.9 0.657594 0.796591 0.79613 0\n",
      "2640 43547.1 0.657151 0.796454 0.796036 1\n",
      "2660 43489.3 0.656714 0.796321 0.795945 2\n",
      "2680 43432.4 0.656284 0.796191 0.795857 3\n",
      "2700 43376.4 0.655861 0.796065 0.795771 4\n",
      "2720 43321.3 0.655443 0.795942 0.795689 5\n",
      "2740 43267.1 0.655034 0.795821 0.795609 6\n",
      "2760 43213.7 0.654629 0.795705 0.795533 7\n",
      "2780 43161.2 0.654231 0.795591 0.795458 0\n",
      "2800 43109.5 0.653838 0.79548 0.795386 1\n",
      "2820 43058.6 0.653453 0.795371 0.795318 2\n",
      "2840 43008.4 0.653072 0.795266 0.795251 3\n",
      "2860 42959.1 0.652696 0.795163 0.795187 4\n",
      "2880 42910.4 0.652325 0.795064 0.795125 5\n",
      "2900 42862.5 0.651963 0.794966 0.795066 6\n",
      "2920 42815.4 0.651603 0.794872 0.795008 7\n",
      "2940 42768.8 0.651249 0.794779 0.794953 8\n",
      "2960 42723.1 0.6509 0.79469 0.7949 9\n",
      "2980 42677.9 0.650556 0.794603 0.794849 0\n",
      "3000 42633.5 0.650218 0.794518 0.7948 1\n",
      "3020 42589.6 0.649882 0.794435 0.794753 2\n"
     ]
    },
    {
     "ename": "KeyboardInterrupt",
     "evalue": "",
     "output_type": "error",
     "traceback": [
      "\u001b[0;31m---------------------------------------------------------------------------\u001b[0m",
      "\u001b[0;31mKeyboardInterrupt\u001b[0m                         Traceback (most recent call last)",
      "\u001b[0;32m<ipython-input-21-68d5462298a8>\u001b[0m in \u001b[0;36m<module>\u001b[0;34m()\u001b[0m\n\u001b[1;32m      5\u001b[0m \u001b[0mnot_change_n\u001b[0m \u001b[0;34m=\u001b[0m \u001b[0;36m0\u001b[0m\u001b[0;34m\u001b[0m\u001b[0m\n\u001b[1;32m      6\u001b[0m \u001b[0;32mfor\u001b[0m \u001b[0mi\u001b[0m \u001b[0;32min\u001b[0m \u001b[0mrange\u001b[0m\u001b[0;34m(\u001b[0m\u001b[0;36m10001\u001b[0m\u001b[0;34m)\u001b[0m\u001b[0;34m:\u001b[0m\u001b[0;34m\u001b[0m\u001b[0m\n\u001b[0;32m----> 7\u001b[0;31m     \u001b[0m_\u001b[0m\u001b[0;34m,\u001b[0m \u001b[0mc\u001b[0m\u001b[0;34m,\u001b[0m \u001b[0mr\u001b[0m\u001b[0;34m,\u001b[0m \u001b[0mtr\u001b[0m\u001b[0;34m,\u001b[0m \u001b[0mvr\u001b[0m \u001b[0;34m=\u001b[0m \u001b[0msess\u001b[0m\u001b[0;34m.\u001b[0m\u001b[0mrun\u001b[0m\u001b[0;34m(\u001b[0m\u001b[0;34m[\u001b[0m\u001b[0mtraining_step\u001b[0m\u001b[0;34m,\u001b[0m \u001b[0mcost\u001b[0m\u001b[0;34m,\u001b[0m \u001b[0mrmse\u001b[0m\u001b[0;34m,\u001b[0m \u001b[0mtest_rmse\u001b[0m\u001b[0;34m,\u001b[0m \u001b[0mvalid_rmse\u001b[0m\u001b[0;34m]\u001b[0m\u001b[0;34m)\u001b[0m\u001b[0;34m\u001b[0m\u001b[0m\n\u001b[0m\u001b[1;32m      8\u001b[0m     \u001b[0;32mif\u001b[0m \u001b[0mi\u001b[0m\u001b[0;34m%\u001b[0m\u001b[0;36m20\u001b[0m \u001b[0;34m==\u001b[0m \u001b[0;36m0\u001b[0m\u001b[0;34m:\u001b[0m\u001b[0;34m\u001b[0m\u001b[0m\n\u001b[1;32m      9\u001b[0m         \u001b[0mprint\u001b[0m\u001b[0;34m(\u001b[0m\u001b[0mi\u001b[0m\u001b[0;34m,\u001b[0m \u001b[0mc\u001b[0m\u001b[0;34m,\u001b[0m \u001b[0mr\u001b[0m\u001b[0;34m,\u001b[0m \u001b[0mvr\u001b[0m\u001b[0;34m,\u001b[0m \u001b[0mtr\u001b[0m\u001b[0;34m,\u001b[0m \u001b[0mnot_change_n\u001b[0m\u001b[0;34m)\u001b[0m\u001b[0;34m\u001b[0m\u001b[0m\n",
      "\u001b[0;32m/Users/Suyixin/anaconda/envs/ws/lib/python3.6/site-packages/tensorflow/python/client/session.py\u001b[0m in \u001b[0;36mrun\u001b[0;34m(self, fetches, feed_dict, options, run_metadata)\u001b[0m\n\u001b[1;32m    765\u001b[0m     \u001b[0;32mtry\u001b[0m\u001b[0;34m:\u001b[0m\u001b[0;34m\u001b[0m\u001b[0m\n\u001b[1;32m    766\u001b[0m       result = self._run(None, fetches, feed_dict, options_ptr,\n\u001b[0;32m--> 767\u001b[0;31m                          run_metadata_ptr)\n\u001b[0m\u001b[1;32m    768\u001b[0m       \u001b[0;32mif\u001b[0m \u001b[0mrun_metadata\u001b[0m\u001b[0;34m:\u001b[0m\u001b[0;34m\u001b[0m\u001b[0m\n\u001b[1;32m    769\u001b[0m         \u001b[0mproto_data\u001b[0m \u001b[0;34m=\u001b[0m \u001b[0mtf_session\u001b[0m\u001b[0;34m.\u001b[0m\u001b[0mTF_GetBuffer\u001b[0m\u001b[0;34m(\u001b[0m\u001b[0mrun_metadata_ptr\u001b[0m\u001b[0;34m)\u001b[0m\u001b[0;34m\u001b[0m\u001b[0m\n",
      "\u001b[0;32m/Users/Suyixin/anaconda/envs/ws/lib/python3.6/site-packages/tensorflow/python/client/session.py\u001b[0m in \u001b[0;36m_run\u001b[0;34m(self, handle, fetches, feed_dict, options, run_metadata)\u001b[0m\n\u001b[1;32m    963\u001b[0m     \u001b[0;32mif\u001b[0m \u001b[0mfinal_fetches\u001b[0m \u001b[0;32mor\u001b[0m \u001b[0mfinal_targets\u001b[0m\u001b[0;34m:\u001b[0m\u001b[0;34m\u001b[0m\u001b[0m\n\u001b[1;32m    964\u001b[0m       results = self._do_run(handle, final_targets, final_fetches,\n\u001b[0;32m--> 965\u001b[0;31m                              feed_dict_string, options, run_metadata)\n\u001b[0m\u001b[1;32m    966\u001b[0m     \u001b[0;32melse\u001b[0m\u001b[0;34m:\u001b[0m\u001b[0;34m\u001b[0m\u001b[0m\n\u001b[1;32m    967\u001b[0m       \u001b[0mresults\u001b[0m \u001b[0;34m=\u001b[0m \u001b[0;34m[\u001b[0m\u001b[0;34m]\u001b[0m\u001b[0;34m\u001b[0m\u001b[0m\n",
      "\u001b[0;32m/Users/Suyixin/anaconda/envs/ws/lib/python3.6/site-packages/tensorflow/python/client/session.py\u001b[0m in \u001b[0;36m_do_run\u001b[0;34m(self, handle, target_list, fetch_list, feed_dict, options, run_metadata)\u001b[0m\n\u001b[1;32m   1013\u001b[0m     \u001b[0;32mif\u001b[0m \u001b[0mhandle\u001b[0m \u001b[0;32mis\u001b[0m \u001b[0;32mNone\u001b[0m\u001b[0;34m:\u001b[0m\u001b[0;34m\u001b[0m\u001b[0m\n\u001b[1;32m   1014\u001b[0m       return self._do_call(_run_fn, self._session, feed_dict, fetch_list,\n\u001b[0;32m-> 1015\u001b[0;31m                            target_list, options, run_metadata)\n\u001b[0m\u001b[1;32m   1016\u001b[0m     \u001b[0;32melse\u001b[0m\u001b[0;34m:\u001b[0m\u001b[0;34m\u001b[0m\u001b[0m\n\u001b[1;32m   1017\u001b[0m       return self._do_call(_prun_fn, self._session, handle, feed_dict,\n",
      "\u001b[0;32m/Users/Suyixin/anaconda/envs/ws/lib/python3.6/site-packages/tensorflow/python/client/session.py\u001b[0m in \u001b[0;36m_do_call\u001b[0;34m(self, fn, *args)\u001b[0m\n\u001b[1;32m   1020\u001b[0m   \u001b[0;32mdef\u001b[0m \u001b[0m_do_call\u001b[0m\u001b[0;34m(\u001b[0m\u001b[0mself\u001b[0m\u001b[0;34m,\u001b[0m \u001b[0mfn\u001b[0m\u001b[0;34m,\u001b[0m \u001b[0;34m*\u001b[0m\u001b[0margs\u001b[0m\u001b[0;34m)\u001b[0m\u001b[0;34m:\u001b[0m\u001b[0;34m\u001b[0m\u001b[0m\n\u001b[1;32m   1021\u001b[0m     \u001b[0;32mtry\u001b[0m\u001b[0;34m:\u001b[0m\u001b[0;34m\u001b[0m\u001b[0m\n\u001b[0;32m-> 1022\u001b[0;31m       \u001b[0;32mreturn\u001b[0m \u001b[0mfn\u001b[0m\u001b[0;34m(\u001b[0m\u001b[0;34m*\u001b[0m\u001b[0margs\u001b[0m\u001b[0;34m)\u001b[0m\u001b[0;34m\u001b[0m\u001b[0m\n\u001b[0m\u001b[1;32m   1023\u001b[0m     \u001b[0;32mexcept\u001b[0m \u001b[0merrors\u001b[0m\u001b[0;34m.\u001b[0m\u001b[0mOpError\u001b[0m \u001b[0;32mas\u001b[0m \u001b[0me\u001b[0m\u001b[0;34m:\u001b[0m\u001b[0;34m\u001b[0m\u001b[0m\n\u001b[1;32m   1024\u001b[0m       \u001b[0mmessage\u001b[0m \u001b[0;34m=\u001b[0m \u001b[0mcompat\u001b[0m\u001b[0;34m.\u001b[0m\u001b[0mas_text\u001b[0m\u001b[0;34m(\u001b[0m\u001b[0me\u001b[0m\u001b[0;34m.\u001b[0m\u001b[0mmessage\u001b[0m\u001b[0;34m)\u001b[0m\u001b[0;34m\u001b[0m\u001b[0m\n",
      "\u001b[0;32m/Users/Suyixin/anaconda/envs/ws/lib/python3.6/site-packages/tensorflow/python/client/session.py\u001b[0m in \u001b[0;36m_run_fn\u001b[0;34m(session, feed_dict, fetch_list, target_list, options, run_metadata)\u001b[0m\n\u001b[1;32m   1002\u001b[0m         return tf_session.TF_Run(session, options,\n\u001b[1;32m   1003\u001b[0m                                  \u001b[0mfeed_dict\u001b[0m\u001b[0;34m,\u001b[0m \u001b[0mfetch_list\u001b[0m\u001b[0;34m,\u001b[0m \u001b[0mtarget_list\u001b[0m\u001b[0;34m,\u001b[0m\u001b[0;34m\u001b[0m\u001b[0m\n\u001b[0;32m-> 1004\u001b[0;31m                                  status, run_metadata)\n\u001b[0m\u001b[1;32m   1005\u001b[0m \u001b[0;34m\u001b[0m\u001b[0m\n\u001b[1;32m   1006\u001b[0m     \u001b[0;32mdef\u001b[0m \u001b[0m_prun_fn\u001b[0m\u001b[0;34m(\u001b[0m\u001b[0msession\u001b[0m\u001b[0;34m,\u001b[0m \u001b[0mhandle\u001b[0m\u001b[0;34m,\u001b[0m \u001b[0mfeed_dict\u001b[0m\u001b[0;34m,\u001b[0m \u001b[0mfetch_list\u001b[0m\u001b[0;34m)\u001b[0m\u001b[0;34m:\u001b[0m\u001b[0;34m\u001b[0m\u001b[0m\n",
      "\u001b[0;31mKeyboardInterrupt\u001b[0m: "
     ]
    }
   ],
   "source": [
    "sess = tf.Session()\n",
    "init = tf.global_variables_initializer()\n",
    "sess.run(init)\n",
    "minVR = 999\n",
    "not_change_n = 0\n",
    "for i in range(10001):\n",
    "    _, c, r, tr, vr = sess.run([training_step, cost, rmse, test_rmse, valid_rmse])\n",
    "    if i%20 == 0:\n",
    "        print(i, c, r, vr, tr, not_change_n)\n",
    "    \n",
    "        if vr + 0.001 < minVR:\n",
    "            minVR = vr\n",
    "            not_change_n = 0\n",
    "        else:\n",
    "            not_change_n += 1\n",
    "\n",
    "        if not_change_n > 10:\n",
    "            break\n",
    "            \n",
    "    \n",
    "    \"\"\"\n",
    "    if i%500 == 0:\n",
    "        r, tr = sess.run([rmse, test_rmse])\n",
    "        #r = sess.run([rmse])\n",
    "        print(\"rmse:\", i, r, tr)\n",
    "    \"\"\"\n",
    "    \n",
    "    "
   ]
  },
  {
   "cell_type": "code",
   "execution_count": 22,
   "metadata": {},
   "outputs": [
    {
     "name": "stdout",
     "output_type": "stream",
     "text": [
      "0.485895\n",
      "0.574433\n",
      "0.575579\n"
     ]
    }
   ],
   "source": [
    "train_mae = tf.reduce_mean(tf.abs(tf.subtract(rates_train, R_test)))\n",
    "test_mae = tf.reduce_mean(tf.abs(tf.subtract(rates_test, test_R_test)))\n",
    "valid_mae = tf.reduce_mean(tf.abs(tf.subtract(rates_valid, valid_R_test)))\n",
    "mae_tr, mae_v, mae_t = sess.run([train_mae, valid_mae, test_mae])\n",
    "print(mae_tr)\n",
    "print(mae_v)\n",
    "print(mae_t)"
   ]
  },
  {
   "cell_type": "code",
   "execution_count": 23,
   "metadata": {
    "collapsed": true
   },
   "outputs": [],
   "source": [
    "movie_rating = pickle.load(open('../data/'+folder+'/movie_rating.pkl', 'rb'))\n",
    "movie_rating_test = pickle.load(open('../data/'+folder+'/movie_rating_test.pkl', 'rb'))"
   ]
  },
  {
   "cell_type": "code",
   "execution_count": 42,
   "metadata": {},
   "outputs": [],
   "source": [
    "_U, _P, _result = sess.run([U,P, result])"
   ]
  },
  {
   "cell_type": "code",
   "execution_count": 55,
   "metadata": {},
   "outputs": [],
   "source": [
    "import numpy as np\n",
    "_p = np.transpose(_P)"
   ]
  },
  {
   "cell_type": "code",
   "execution_count": 83,
   "metadata": {},
   "outputs": [],
   "source": [
    "total_not_in = 0\n",
    "vv_predict = []\n",
    "vv_y = []\n",
    "largest_num = 10\n",
    "_RMSE_list = []\n",
    "for largest_num in range(0,200, 3): \n",
    "    for m in range(0, max_movie+1):\n",
    "        if (m not in movie_rating or len(movie_rating[m]) <=largest_num) and m in movie_rating_test:\n",
    "            #print('not in', m)\n",
    "            #print(movie_rating_test[m])\n",
    "            for pair in movie_rating_test[m]:\n",
    "                movie_n = m\n",
    "                user_n = pair[0]\n",
    "                vv_predict.append(np.dot(_U[user_n], _p[movie_n]))\n",
    "                vv_y.append(pair[1])\n",
    "            total_not_in += len(movie_rating_test[m])\n",
    "\n",
    "    _RMSE = np.sqrt(np.mean(np.square(np.subtract(vv_predict, vv_y))))\n",
    "    _RMSE_list.append((largest_num, _RMSE))\n",
    "    "
   ]
  },
  {
   "cell_type": "code",
   "execution_count": 73,
   "metadata": {},
   "outputs": [
    {
     "data": {
      "text/plain": [
       "969"
      ]
     },
     "execution_count": 73,
     "metadata": {},
     "output_type": "execute_result"
    }
   ],
   "source": [
    "total_not_in"
   ]
  },
  {
   "cell_type": "code",
   "execution_count": 74,
   "metadata": {},
   "outputs": [
    {
     "data": {
      "text/plain": [
       "1.5459987380872264"
      ]
     },
     "execution_count": 74,
     "metadata": {},
     "output_type": "execute_result"
    }
   ],
   "source": [
    "np.sqrt(np.mean(np.square(np.subtract(vv_predict, vv_y))))"
   ]
  },
  {
   "cell_type": "code",
   "execution_count": 75,
   "metadata": {},
   "outputs": [
    {
     "data": {
      "text/plain": [
       "(-1.4057437, 0.66361493, -0.14481126, 0.74128443)"
      ]
     },
     "execution_count": 75,
     "metadata": {},
     "output_type": "execute_result"
    }
   ],
   "source": [
    "_P[0][0], _P[1][0], _P[2][0], _P[3][0]"
   ]
  },
  {
   "cell_type": "code",
   "execution_count": 76,
   "metadata": {},
   "outputs": [
    {
     "data": {
      "text/plain": [
       "array([-1.40574372,  0.66361493, -0.14481126,  0.74128443,  0.15007383], dtype=float32)"
      ]
     },
     "execution_count": 76,
     "metadata": {},
     "output_type": "execute_result"
    }
   ],
   "source": [
    "_p[0]"
   ]
  },
  {
   "cell_type": "code",
   "execution_count": 84,
   "metadata": {},
   "outputs": [
    {
     "data": {
      "text/plain": [
       "[(0, 3.1833473659774985),\n",
       " (3, 2.4239389208122688),\n",
       " (6, 2.0946503370564096),\n",
       " (9, 1.8934228955623369),\n",
       " (12, 1.7639267280099786),\n",
       " (15, 1.6733536169803629),\n",
       " (18, 1.6004050526300291),\n",
       " (21, 1.539135741842548),\n",
       " (24, 1.4908253541431598),\n",
       " (27, 1.4511506977841526),\n",
       " (30, 1.4182021183114883),\n",
       " (33, 1.388515433223342),\n",
       " (36, 1.3633878015630871),\n",
       " (39, 1.3412227621970545),\n",
       " (42, 1.3216081509387461),\n",
       " (45, 1.3035674169628577),\n",
       " (48, 1.2872281372444101),\n",
       " (51, 1.2729777264621029),\n",
       " (54, 1.2598103481206395),\n",
       " (57, 1.246946441716122),\n",
       " (60, 1.234420584129059),\n",
       " (63, 1.2229276118025165),\n",
       " (66, 1.2120673221649481),\n",
       " (69, 1.2022890595809512),\n",
       " (72, 1.1930715842642268),\n",
       " (75, 1.1845622956478419),\n",
       " (78, 1.1765066902508297),\n",
       " (81, 1.1690175938434828),\n",
       " (84, 1.1618830059701983),\n",
       " (87, 1.1550936105798155),\n",
       " (90, 1.148503215132646),\n",
       " (93, 1.1423363927610246),\n",
       " (96, 1.1362726292596412),\n",
       " (99, 1.1304295603454488),\n",
       " (102, 1.1248971903410017),\n",
       " (105, 1.1197569407728969),\n",
       " (108, 1.1148025739765144),\n",
       " (111, 1.1101705580344334),\n",
       " (114, 1.1058335773770223),\n",
       " (117, 1.1015640387433383),\n",
       " (120, 1.0975153146505137),\n",
       " (123, 1.0936485308117665),\n",
       " (126, 1.0898904507564733),\n",
       " (129, 1.0861304843449084),\n",
       " (132, 1.0825057285554223),\n",
       " (135, 1.0791043864748866),\n",
       " (138, 1.0758767383957726),\n",
       " (141, 1.0727176127752445),\n",
       " (144, 1.0696394108278537),\n",
       " (147, 1.066617758838021),\n",
       " (150, 1.0637227125500879),\n",
       " (153, 1.0609838485060232),\n",
       " (156, 1.0583746041584072),\n",
       " (159, 1.0556842138317415),\n",
       " (162, 1.0530406718254928),\n",
       " (165, 1.0503185747784027),\n",
       " (168, 1.0476118486738322),\n",
       " (171, 1.0449063816981341),\n",
       " (174, 1.0422946153586059),\n",
       " (177, 1.0397874069302591),\n",
       " (180, 1.0373311644865824),\n",
       " (183, 1.0349327521535177),\n",
       " (186, 1.0326405461406589),\n",
       " (189, 1.0303642503911159),\n",
       " (192, 1.0281217462790655),\n",
       " (195, 1.0259258976800696),\n",
       " (198, 1.0237481659547973)]"
      ]
     },
     "execution_count": 84,
     "metadata": {},
     "output_type": "execute_result"
    }
   ],
   "source": [
    "_RMSE_list"
   ]
  },
  {
   "cell_type": "code",
   "execution_count": 85,
   "metadata": {
    "collapsed": true
   },
   "outputs": [],
   "source": [
    "import csv\n",
    "with open('MF_RMSE.csv','w') as f:\n",
    "    f_csv = csv.writer(f)\n",
    "    headers = ['num, RMSE']\n",
    "    f_csv.writerow(headers)\n",
    "    for p in _RMSE_list:\n",
    "        row = [p[0], p[1]]\n",
    "        f_csv.writerow(row)"
   ]
  },
  {
   "cell_type": "code",
   "execution_count": null,
   "metadata": {
    "collapsed": true
   },
   "outputs": [],
   "source": []
  }
 ],
 "metadata": {
  "kernelspec": {
   "display_name": "ws3.6",
   "language": "python",
   "name": "ws"
  },
  "language_info": {
   "codemirror_mode": {
    "name": "ipython",
    "version": 3
   },
   "file_extension": ".py",
   "mimetype": "text/x-python",
   "name": "python",
   "nbconvert_exporter": "python",
   "pygments_lexer": "ipython3",
   "version": "3.6.1"
  }
 },
 "nbformat": 4,
 "nbformat_minor": 2
}
